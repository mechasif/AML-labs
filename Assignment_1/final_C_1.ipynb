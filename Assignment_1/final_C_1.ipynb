{
 "cells": [
  {
   "cell_type": "markdown",
   "id": "8bb871e4-40e0-419b-99f8-06c0afa896d4",
   "metadata": {
    "tags": []
   },
   "source": [
    "# AML Classification Challenge 1\n"
   ]
  },
  {
   "cell_type": "markdown",
   "id": "edac208c-be4b-483c-93e1-d5ace7bc1d1a",
   "metadata": {},
   "source": [
    "## Introduction"
   ]
  },
  {
   "cell_type": "markdown",
   "id": "1230e303-8c22-43d9-9c27-a85b9b212ecf",
   "metadata": {},
   "source": [
    "The following notebook creates a model that can classify between **normal operation (no fault)** and **faulty operation (missing tooth)** at the same speed and load. **80%** of the data has been used for training, and **20%** has been used for validation. The **confusion matrix** has also been plotted at the end."
   ]
  },
  {
   "cell_type": "markdown",
   "id": "01ac862e-2e54-4f67-81c0-f25e011724a5",
   "metadata": {},
   "source": [
    "## Packages \n",
    "The following packages have been used during this assignment,\n",
    "- [tensorflow](https://www.tensorflow.org/) - Machine learning.\n",
    "- [numpy](https://numpy.org/) - Scientific computing with Python.\n",
    "- [matplotlib](http://matplotlib.org) - Plot graphs in Python.\n",
    "- [pandas](https://pandas.pydata.org) - Data manipulation and analysis.\n",
    "- [sklearn](https://scikit-learn.org) - Predictive data analysis."
   ]
  },
  {
   "cell_type": "code",
   "execution_count": 1,
   "id": "e8ceee3e-eea2-40d8-bdbe-c502bf6a4126",
   "metadata": {},
   "outputs": [],
   "source": [
    "import tensorflow as tf\n",
    "import numpy as np\n",
    "import matplotlib.pyplot as plt\n",
    "import pandas as pd\n",
    "from sklearn.model_selection import train_test_split\n",
    "from sklearn.metrics import confusion_matrix"
   ]
  },
  {
   "cell_type": "markdown",
   "id": "8f90a8ea-98a5-4f50-80e3-d205b0553086",
   "metadata": {},
   "source": [
    "## Dataset"
   ]
  },
  {
   "cell_type": "code",
   "execution_count": 2,
   "id": "9a63a28f-9609-46c1-9700-b7935df3c141",
   "metadata": {},
   "outputs": [],
   "source": [
    "# Load the data from CSV files\n",
    "faulty_data = pd.read_csv('data/missing_tooth.csv')\n",
    "normal_data = pd.read_csv('data/no_fault.csv')\n",
    "\n",
    "# Create a label column to indicate faulty (1) or normal (0)\n",
    "faulty_data['label'] = 1\n",
    "normal_data['label'] = 0\n",
    "\n",
    "# Concatenate the dataframes\n",
    "data = pd.concat([faulty_data, normal_data], ignore_index=True)"
   ]
  },
  {
   "cell_type": "code",
   "execution_count": 3,
   "id": "f69099b2-54c8-473e-9e4e-a8e11a07c6c6",
   "metadata": {},
   "outputs": [],
   "source": [
    "#Size window to cover maximum 1 second\n",
    "window_size = pd.Timedelta(seconds=1)\n",
    "\n",
    "# Sort the DataFrame by the time_x column\n",
    "data = data.sort_values('time_x')\n",
    "\n",
    "# Convert 'time_x' column to datetime\n",
    "data['time_x'] = pd.to_datetime(data['time_x'])\n",
    "\n",
    "# Group the data into windows of 1 second\n",
    "windowed_data = data.groupby([pd.Grouper(key='time_x', freq=window_size)]).apply(lambda x: x).reset_index(drop=True)"
   ]
  },
  {
   "cell_type": "code",
   "execution_count": 4,
   "id": "4d487ea8-ccb8-4d48-a6b3-0945187b6d0f",
   "metadata": {},
   "outputs": [],
   "source": [
    "# Select the relevant columns for training\n",
    "features = ['sensor1', 'sensor2']\n",
    "labels = ['label']\n",
    "data = windowed_data[features + labels]"
   ]
  },
  {
   "cell_type": "code",
   "execution_count": 5,
   "id": "0a97270a-6040-4e9b-9342-77bd37e7b057",
   "metadata": {},
   "outputs": [],
   "source": [
    "# Normalize the features\n",
    "data.loc[:, features] = (data[features] - data[features].mean()) / data[features].std()"
   ]
  },
  {
   "cell_type": "code",
   "execution_count": 6,
   "id": "2a4cebeb-0649-4f61-a769-8e51e3e0fed2",
   "metadata": {},
   "outputs": [],
   "source": [
    "# Split the data into features and labels\n",
    "X = data[features].values\n",
    "y = data[labels].values"
   ]
  },
  {
   "cell_type": "code",
   "execution_count": 7,
   "id": "ee1f71b8-c32b-481c-b224-7bdf8590aadf",
   "metadata": {},
   "outputs": [
    {
     "name": "stdout",
     "output_type": "stream",
     "text": [
      "Shape of X_train: (240000, 2)\n",
      "Shape of y_train: (240000, 1)\n"
     ]
    }
   ],
   "source": [
    "#split the data into training and validation sets\n",
    "X_train, X_val, y_train, y_val = train_test_split(X, y, test_size=0.2, random_state=10)\n",
    "\n",
    "print(\"Shape of X_train:\",X_train.shape)\n",
    "#print(\"Shape of X_val:\",X_val.shape[0])\n",
    "print(\"Shape of y_train:\",y_train.shape)\n",
    "#print(\"Shape of y_val:\",y_val.shape[0])"
   ]
  },
  {
   "cell_type": "markdown",
   "id": "0f254caa-c077-4672-a8e1-4ad340a93634",
   "metadata": {},
   "source": [
    "## Training the Model"
   ]
  },
  {
   "cell_type": "code",
   "execution_count": 8,
   "id": "c03ca573-2e8b-450b-b6c2-c2792d362bec",
   "metadata": {},
   "outputs": [
    {
     "name": "stdout",
     "output_type": "stream",
     "text": [
      "Model: \"sequential\"\n",
      "_________________________________________________________________\n",
      " Layer (type)                Output Shape              Param #   \n",
      "=================================================================\n",
      " dense (Dense)               (None, 64)                192       \n",
      "                                                                 \n",
      " batch_normalization (BatchN  (None, 64)               256       \n",
      " ormalization)                                                   \n",
      "                                                                 \n",
      " dense_1 (Dense)             (None, 1)                 65        \n",
      "                                                                 \n",
      "=================================================================\n",
      "Total params: 513\n",
      "Trainable params: 385\n",
      "Non-trainable params: 128\n",
      "_________________________________________________________________\n"
     ]
    }
   ],
   "source": [
    "model = tf.keras.Sequential([\n",
    "    tf.keras.layers.Input(shape=(len(features),)),\n",
    "    tf.keras.layers.Dense(64, activation='relu'),\n",
    "    tf.keras.layers.BatchNormalization(),\n",
    "    tf.keras.layers.Dense(1, activation='sigmoid')\n",
    "])\n",
    "\n",
    "#Print the model summary\n",
    "model.summary()\n",
    "\n",
    "#Select the optimizer\n",
    "optimizer = tf.keras.optimizers.Adam(learning_rate=0.001)\n",
    "\n",
    "#Compile the model\n",
    "model.compile(optimizer=optimizer, loss='binary_crossentropy', metrics=['accuracy'])"
   ]
  },
  {
   "cell_type": "code",
   "execution_count": 9,
   "id": "4600e10d-1189-48fe-b84b-b6b8099a0b10",
   "metadata": {},
   "outputs": [
    {
     "name": "stdout",
     "output_type": "stream",
     "text": [
      "Epoch 1/10\n",
      "3750/3750 [==============================] - 12s 3ms/step - loss: 0.6654 - accuracy: 0.5971 - val_loss: 0.6616 - val_accuracy: 0.6013\n",
      "Epoch 2/10\n",
      "3750/3750 [==============================] - 9s 2ms/step - loss: 0.6624 - accuracy: 0.6013 - val_loss: 0.6616 - val_accuracy: 0.6033\n",
      "Epoch 3/10\n",
      "3750/3750 [==============================] - 9s 2ms/step - loss: 0.6618 - accuracy: 0.6017 - val_loss: 0.6606 - val_accuracy: 0.6076\n",
      "Epoch 4/10\n",
      "3750/3750 [==============================] - 9s 3ms/step - loss: 0.6615 - accuracy: 0.6025 - val_loss: 0.6603 - val_accuracy: 0.6059\n",
      "Epoch 5/10\n",
      "3750/3750 [==============================] - 9s 2ms/step - loss: 0.6607 - accuracy: 0.6031 - val_loss: 0.6581 - val_accuracy: 0.6038\n",
      "Epoch 6/10\n",
      "3750/3750 [==============================] - 9s 2ms/step - loss: 0.6598 - accuracy: 0.6045 - val_loss: 0.6580 - val_accuracy: 0.6018\n",
      "Epoch 7/10\n",
      "3750/3750 [==============================] - 10s 3ms/step - loss: 0.6598 - accuracy: 0.6033 - val_loss: 0.6566 - val_accuracy: 0.6067\n",
      "Epoch 8/10\n",
      "3750/3750 [==============================] - 10s 3ms/step - loss: 0.6593 - accuracy: 0.6034 - val_loss: 0.6579 - val_accuracy: 0.6072\n",
      "Epoch 9/10\n",
      "3750/3750 [==============================] - 9s 3ms/step - loss: 0.6589 - accuracy: 0.6032 - val_loss: 0.6558 - val_accuracy: 0.6068\n",
      "Epoch 10/10\n",
      "3750/3750 [==============================] - 10s 3ms/step - loss: 0.6588 - accuracy: 0.6036 - val_loss: 0.6553 - val_accuracy: 0.6079\n"
     ]
    }
   ],
   "source": [
    "#training the model\n",
    "batch_size = 64\n",
    "epochs = 10\n",
    "history = model.fit(X_train, y_train, batch_size=batch_size, epochs=epochs, validation_data=(X_val, y_val))"
   ]
  },
  {
   "cell_type": "code",
   "execution_count": 10,
   "id": "4988d122-2201-4995-9d68-7105df2957db",
   "metadata": {},
   "outputs": [
    {
     "name": "stdout",
     "output_type": "stream",
     "text": [
      "1875/1875 [==============================] - 3s 1ms/step\n"
     ]
    }
   ],
   "source": [
    "# Predict probabilities for validation data\n",
    "y_pred_prob = model.predict(X_val)\n",
    "\n",
    "# Round probabilities to obtain predicted classes\n",
    "y_pred = np.round(y_pred_prob).astype(int)\n"
   ]
  },
  {
   "cell_type": "markdown",
   "id": "ae6f9c11-06ce-4b22-bb51-983a463e10c4",
   "metadata": {},
   "source": [
    "## Confusion Matrix"
   ]
  },
  {
   "cell_type": "code",
   "execution_count": 11,
   "id": "f840b3af-dba5-465c-bb0e-4527da909b62",
   "metadata": {},
   "outputs": [],
   "source": [
    "# Generate confusion matrix\n",
    "cm = confusion_matrix(y_val, y_pred)"
   ]
  },
  {
   "cell_type": "code",
   "execution_count": 12,
   "id": "bc66555a-7813-4979-bd56-a762aacd58df",
   "metadata": {},
   "outputs": [
    {
     "data": {
      "image/png": "[encoded data removed]",
      "text/plain": [
       "<Figure size 640x480 with 2 Axes>"
      ]
     },
     "metadata": {},
     "output_type": "display_data"
    }
   ],
   "source": [
    "# Plot the confusion matrix\n",
    "plt.imshow(cm, interpolation='nearest', cmap=plt.cm.Blues)\n",
    "plt.title('Confusion Matrix')\n",
    "plt.colorbar()\n",
    "plt.xlabel('Predicted Label')\n",
    "plt.ylabel('True Label')\n",
    "plt.show()"
   ]
  }
 ],
 "metadata": {
  "kernelspec": {
   "display_name": "Python [conda env:aml_V1]",
   "language": "python",
   "name": "conda-env-aml_V1-py"
  },
  "language_info": {
   "codemirror_mode": {
    "name": "ipython",
    "version": 3
   },
   "file_extension": ".py",
   "mimetype": "text/x-python",
   "name": "python",
   "nbconvert_exporter": "python",
   "pygments_lexer": "ipython3",
   "version": "3.10.9"
  }
 },
 "nbformat": 4,
 "nbformat_minor": 5
}
